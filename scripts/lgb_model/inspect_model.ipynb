{
 "cells": [
  {
   "cell_type": "code",
   "execution_count": 3,
   "metadata": {
    "ExecuteTime": {
     "end_time": "2024-06-20T07:37:13.887152Z",
     "start_time": "2024-06-20T07:37:12.791238Z"
    }
   },
   "outputs": [],
   "source": [
    "import sys\n",
    "sys.path.insert(0, 'D:/VisualStudio/python/spark_learning/')\n",
    "\n",
    "from spark_learning.lgbm import get_feature_importance\n",
    "from spark_learning.utils.models import load_model"
   ]
  },
  {
   "cell_type": "code",
   "execution_count": 4,
   "metadata": {
    "ExecuteTime": {
     "end_time": "2024-06-20T07:37:14.701119Z",
     "start_time": "2024-06-20T07:37:14.678040Z"
    }
   },
   "outputs": [
    {
     "data": {
      "text/plain": [
       "wishlist_rank                266\n",
       "EA_revenue                   250\n",
       "EA_pcu                       405\n",
       "EA_acu                         3\n",
       "average_acu                  632\n",
       "developer_id                 801\n",
       "developer                    294\n",
       "developer_revenue_p1_year    509\n",
       "publisher_id                 391\n",
       "publisher                    211\n",
       "publisher_revenue_p1_year    406\n",
       "genre                        449\n",
       "sub_genre                    604\n",
       "tag_list                     631\n",
       "dtype: int32"
      ]
     },
     "execution_count": 4,
     "metadata": {},
     "output_type": "execute_result"
    }
   ],
   "source": [
    "model = load_model(\"D:/VisualStudio/python/spark_learning/lgb.dill\")\n",
    "get_feature_importance(model)"
   ]
  },
  {
   "cell_type": "code",
   "execution_count": null,
   "metadata": {},
   "outputs": [],
   "source": []
  }
 ],
 "metadata": {
  "kernelspec": {
   "display_name": "Python 3.9.0",
   "language": "python",
   "name": "python390"
  },
  "language_info": {
   "codemirror_mode": {
    "name": "ipython",
    "version": 3
   },
   "file_extension": ".py",
   "mimetype": "text/x-python",
   "name": "python",
   "nbconvert_exporter": "python",
   "pygments_lexer": "ipython3",
   "version": "3.9.0"
  }
 },
 "nbformat": 4,
 "nbformat_minor": 1
}
